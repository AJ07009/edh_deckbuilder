{
 "cells": [
  {
   "cell_type": "code",
   "execution_count": null,
   "metadata": {},
   "outputs": [],
   "source": [
    "%pip install scrapy \n",
    "%pip install crochet \n",
    "%pip install scrapy-selenium\n",
    "%pip install pandas"
   ]
  },
  {
   "cell_type": "code",
   "execution_count": 2,
   "metadata": {},
   "outputs": [],
   "source": [
    "from typing import Iterable\n",
    "import scrapy\n",
    "from scrapy_selenium import SeleniumRequest\n",
    "\n",
    "\n",
    "class itemFormat(scrapy.Item):\n",
    "\n",
    "    card_name = scrapy.Field()\n",
    "    creature_type = scrapy.Field()\n",
    "    mana_cost = scrapy.Field()\n",
    "    card_text = scrapy.Field()\n",
    "    legendary = scrapy.Field()\n",
    "    card_type = scrapy.Field()\n",
    "\n",
    "class databaseSpider(scrapy.Spider):\n",
    "    name = \"databaseSpider\"\n",
    "\n",
    "    custom_settings = {\n",
    "        'FEED_FORMAT':'json',\n",
    "        'FEED_URI':f'databaseSpider.json',\n",
    "    }\n",
    "\n",
    "    def start_requests(self) -> Iterable[scrapy.Request]:\n",
    "        base_url = ['https://gatherer.wizards.com/Pages/Search/Default.aspx?color=|[W]|[U]|[B]|[R]|[G]']\n",
    "\n",
    "        for url in base_url:\n",
    "            yield SeleniumRequest(url = url, callback = self.parse)\n",
    "        return super().start_requests()\n",
    "\n",
    "    def parse(self, response):\n",
    "\n",
    "        for i, card in enumerate(response.css('tr.cardItem.oddItem')):\n",
    "            type_check = card.css('div.cardInfo span.typeLine::text').get(i)\n",
    "            card_item = itemFormat()\n",
    "            \n",
    "\n",
    "            card_item['card_name'] = card.css('div.cardInfo span.cardTitle a::text').get(i)\n",
    "\n",
    "            if \"Creature\" in type_check:\n",
    "\n",
    "                if \"\\u2014\" in card.css('div.cardInfo span.typeLine::text').get(i):\n",
    "                    text = card.css('div.cardInfo span.typeLine::text').get(i).replace(\"\\u2014\",\" \").replace(\"                                 \",\" \").replace(\"\\r\\n\",\" \").replace(\"                                 \",\" \").replace(\"Creature\", \" \").replace(\"      \",\" \")\n",
    "                    card_item[\"card_type\"] = \"Creature\"\n",
    "                    card_item['creature_type'] = text\n",
    "\n",
    "                    if \"Legendary\" in text:\n",
    "                        card_item['legendary'] = True\n",
    "                    else:\n",
    "                        card_item['legendary'] = False\n",
    "                        \n",
    "                else:\n",
    "                    card_item['card_type'] = card.css('div.cardInfo span.typeLine::text').get(i).replace(\"                                 \",\" \").replace(\"\\r\\n\",\" \").replace(\"                                 \",\" \")\n",
    "            \n",
    "            elif \"Enchantment\" in type_check:\n",
    "                card_item['card_type'] = \"Enchantment\"\n",
    "            elif \"Aura\" in type_check:\n",
    "                card_item['card_type'] = \"Aura\"\n",
    "            elif \"Instant\" in type_check:\n",
    "                card_item['card_type'] = \"Instant\"\n",
    "            elif \"Battle\" in type_check:\n",
    "                card_item['card_type'] = \"Battle\"\n",
    "            elif \"Sorcery\" in type_check:\n",
    "                card_item['card_type'] = \"Sorcery\"\n",
    "        \n",
    "\n",
    "            card_item['card_text'] = card.css('div.rulesText p::text').get(i)\n",
    "            card_item['mana_cost'] = card.css('span.manaCost::attr(alt)').get(i)\n",
    "\n",
    "            yield card_item"
   ]
  },
  {
   "cell_type": "code",
   "execution_count": null,
   "metadata": {},
   "outputs": [],
   "source": [
    "from scrapy.crawler import CrawlerProcess\n",
    "\n",
    "process = CrawlerProcess({\n",
    "    'USER_AGENT': 'Mozilla/4.0 (compatible; MSIE 7.0; Windows NT 5.1)'\n",
    "})\n",
    "    \n",
    "process.crawl(databaseSpider)\n",
    "process.start()"
   ]
  },
  {
   "cell_type": "code",
   "execution_count": null,
   "metadata": {},
   "outputs": [],
   "source": [
    "import pandas\n",
    "\n",
    "file_name = f'databaseSpider.json'\n",
    "dfjson = pandas.read_json(file_name)\n",
    "dfjson"
   ]
  }
 ],
 "metadata": {
  "kernelspec": {
   "display_name": "Python 3",
   "language": "python",
   "name": "python3"
  },
  "language_info": {
   "codemirror_mode": {
    "name": "ipython",
    "version": 3
   },
   "file_extension": ".py",
   "mimetype": "text/x-python",
   "name": "python",
   "nbconvert_exporter": "python",
   "pygments_lexer": "ipython3",
   "version": "3.12.3"
  }
 },
 "nbformat": 4,
 "nbformat_minor": 2
}
